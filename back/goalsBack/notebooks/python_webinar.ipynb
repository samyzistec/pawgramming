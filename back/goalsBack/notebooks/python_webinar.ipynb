{
 "cells": [
  {
   "cell_type": "code",
   "execution_count": null,
   "metadata": {
    "id": "ekS7fJs8FKQs",
    "collapsed": true
   },
   "outputs": [],
   "source": [
    "#install relevant packages\n",
    "#!pip install statsbombpy\n",
    "#!pip install mplsoccer\n",
    "#!pip install highlight_text"
   ]
  },
  {
   "cell_type": "code",
   "metadata": {
    "id": "UT5UPPJ5F0ip",
    "ExecuteTime": {
     "end_time": "2025-09-27T03:22:14.587956Z",
     "start_time": "2025-09-27T03:22:14.502522Z"
    }
   },
   "source": [
    "#import packages\n",
    "from statsbombpy import sb\n",
    "import pandas as pd\n",
    "from mplsoccer import VerticalPitch,Pitch\n",
    "from highlight_text import ax_text, fig_text\n",
    "from matplotlib.colors import LinearSegmentedColormap\n",
    "import matplotlib.pyplot as plt\n",
    "import matplotlib.patheffects as path_effects\n",
    "import seaborn as sns"
   ],
   "outputs": [],
   "execution_count": 1
  },
  {
   "cell_type": "markdown",
   "source": [
    "# Load Competiton, Match, and Event Data from statsbombpy"
   ],
   "metadata": {
    "id": "0bvkC88XJkAm"
   }
  },
  {
   "cell_type": "code",
   "metadata": {
    "id": "i3K4_7ezF0bG",
    "collapsed": true,
    "ExecuteTime": {
     "end_time": "2025-09-27T03:22:17.112695Z",
     "start_time": "2025-09-27T03:22:16.825676Z"
    }
   },
   "source": [
    "#call statsbombpy API to get all free competitions\n",
    "free_comps = sb.competitions()\n",
    "\n",
    "#print a list of free competitions\n",
    "free_comps"
   ],
   "outputs": [
    {
     "data": {
      "text/plain": [
       "    competition_id  season_id   country_name        competition_name  \\\n",
       "0                9        281        Germany           1. Bundesliga   \n",
       "1                9         27        Germany           1. Bundesliga   \n",
       "2             1267        107         Africa  African Cup of Nations   \n",
       "3               16          4         Europe        Champions League   \n",
       "4               16          1         Europe        Champions League   \n",
       "..             ...        ...            ...                     ...   \n",
       "70              35         75         Europe      UEFA Europa League   \n",
       "71              53        315         Europe       UEFA Women's Euro   \n",
       "72              53        106         Europe       UEFA Women's Euro   \n",
       "73              72        107  International       Women's World Cup   \n",
       "74              72         30  International       Women's World Cup   \n",
       "\n",
       "   competition_gender  competition_youth  competition_international  \\\n",
       "0                male              False                      False   \n",
       "1                male              False                      False   \n",
       "2                male              False                       True   \n",
       "3                male              False                      False   \n",
       "4                male              False                      False   \n",
       "..                ...                ...                        ...   \n",
       "70               male              False                      False   \n",
       "71             female              False                       True   \n",
       "72             female              False                       True   \n",
       "73             female              False                       True   \n",
       "74             female              False                       True   \n",
       "\n",
       "   season_name               match_updated           match_updated_360  \\\n",
       "0    2023/2024  2024-09-28T20:46:38.893391  2025-07-06T04:26:07.636270   \n",
       "1    2015/2016  2024-05-19T11:11:14.192381                        None   \n",
       "2         2023  2024-09-28T01:57:35.846538                        None   \n",
       "3    2018/2019  2025-05-08T15:10:50.835274     2021-06-13T16:17:31.694   \n",
       "4    2017/2018  2024-02-13T02:35:28.134882     2021-06-13T16:17:31.694   \n",
       "..         ...                         ...                         ...   \n",
       "70   1988/1989  2024-02-12T14:45:05.702250     2021-06-13T16:17:31.694   \n",
       "71        2025  2025-07-28T14:19:20.467348  2025-07-29T16:03:07.355174   \n",
       "72        2022  2024-02-13T13:27:17.178263  2024-02-13T13:30:52.820588   \n",
       "73        2023  2025-07-14T10:07:06.620906  2025-07-14T10:10:27.224586   \n",
       "74        2019  2024-08-08T15:57:56.748740     2021-06-13T16:17:31.694   \n",
       "\n",
       "           match_available_360             match_available  \n",
       "0   2025-07-06T04:26:07.636270  2024-09-28T20:46:38.893391  \n",
       "1                         None  2024-05-19T11:11:14.192381  \n",
       "2                         None  2024-09-28T01:57:35.846538  \n",
       "3                         None  2025-05-08T15:10:50.835274  \n",
       "4                         None  2024-02-13T02:35:28.134882  \n",
       "..                         ...                         ...  \n",
       "70                        None  2024-02-12T14:45:05.702250  \n",
       "71  2025-07-29T16:03:07.355174  2025-07-28T14:19:20.467348  \n",
       "72  2024-02-13T13:30:52.820588  2024-02-13T13:27:17.178263  \n",
       "73  2025-07-14T10:10:27.224586  2025-07-14T10:07:06.620906  \n",
       "74                        None  2024-08-08T15:57:56.748740  \n",
       "\n",
       "[75 rows x 12 columns]"
      ],
      "text/html": [
       "<div>\n",
       "<style scoped>\n",
       "    .dataframe tbody tr th:only-of-type {\n",
       "        vertical-align: middle;\n",
       "    }\n",
       "\n",
       "    .dataframe tbody tr th {\n",
       "        vertical-align: top;\n",
       "    }\n",
       "\n",
       "    .dataframe thead th {\n",
       "        text-align: right;\n",
       "    }\n",
       "</style>\n",
       "<table border=\"1\" class=\"dataframe\">\n",
       "  <thead>\n",
       "    <tr style=\"text-align: right;\">\n",
       "      <th></th>\n",
       "      <th>competition_id</th>\n",
       "      <th>season_id</th>\n",
       "      <th>country_name</th>\n",
       "      <th>competition_name</th>\n",
       "      <th>competition_gender</th>\n",
       "      <th>competition_youth</th>\n",
       "      <th>competition_international</th>\n",
       "      <th>season_name</th>\n",
       "      <th>match_updated</th>\n",
       "      <th>match_updated_360</th>\n",
       "      <th>match_available_360</th>\n",
       "      <th>match_available</th>\n",
       "    </tr>\n",
       "  </thead>\n",
       "  <tbody>\n",
       "    <tr>\n",
       "      <th>0</th>\n",
       "      <td>9</td>\n",
       "      <td>281</td>\n",
       "      <td>Germany</td>\n",
       "      <td>1. Bundesliga</td>\n",
       "      <td>male</td>\n",
       "      <td>False</td>\n",
       "      <td>False</td>\n",
       "      <td>2023/2024</td>\n",
       "      <td>2024-09-28T20:46:38.893391</td>\n",
       "      <td>2025-07-06T04:26:07.636270</td>\n",
       "      <td>2025-07-06T04:26:07.636270</td>\n",
       "      <td>2024-09-28T20:46:38.893391</td>\n",
       "    </tr>\n",
       "    <tr>\n",
       "      <th>1</th>\n",
       "      <td>9</td>\n",
       "      <td>27</td>\n",
       "      <td>Germany</td>\n",
       "      <td>1. Bundesliga</td>\n",
       "      <td>male</td>\n",
       "      <td>False</td>\n",
       "      <td>False</td>\n",
       "      <td>2015/2016</td>\n",
       "      <td>2024-05-19T11:11:14.192381</td>\n",
       "      <td>None</td>\n",
       "      <td>None</td>\n",
       "      <td>2024-05-19T11:11:14.192381</td>\n",
       "    </tr>\n",
       "    <tr>\n",
       "      <th>2</th>\n",
       "      <td>1267</td>\n",
       "      <td>107</td>\n",
       "      <td>Africa</td>\n",
       "      <td>African Cup of Nations</td>\n",
       "      <td>male</td>\n",
       "      <td>False</td>\n",
       "      <td>True</td>\n",
       "      <td>2023</td>\n",
       "      <td>2024-09-28T01:57:35.846538</td>\n",
       "      <td>None</td>\n",
       "      <td>None</td>\n",
       "      <td>2024-09-28T01:57:35.846538</td>\n",
       "    </tr>\n",
       "    <tr>\n",
       "      <th>3</th>\n",
       "      <td>16</td>\n",
       "      <td>4</td>\n",
       "      <td>Europe</td>\n",
       "      <td>Champions League</td>\n",
       "      <td>male</td>\n",
       "      <td>False</td>\n",
       "      <td>False</td>\n",
       "      <td>2018/2019</td>\n",
       "      <td>2025-05-08T15:10:50.835274</td>\n",
       "      <td>2021-06-13T16:17:31.694</td>\n",
       "      <td>None</td>\n",
       "      <td>2025-05-08T15:10:50.835274</td>\n",
       "    </tr>\n",
       "    <tr>\n",
       "      <th>4</th>\n",
       "      <td>16</td>\n",
       "      <td>1</td>\n",
       "      <td>Europe</td>\n",
       "      <td>Champions League</td>\n",
       "      <td>male</td>\n",
       "      <td>False</td>\n",
       "      <td>False</td>\n",
       "      <td>2017/2018</td>\n",
       "      <td>2024-02-13T02:35:28.134882</td>\n",
       "      <td>2021-06-13T16:17:31.694</td>\n",
       "      <td>None</td>\n",
       "      <td>2024-02-13T02:35:28.134882</td>\n",
       "    </tr>\n",
       "    <tr>\n",
       "      <th>...</th>\n",
       "      <td>...</td>\n",
       "      <td>...</td>\n",
       "      <td>...</td>\n",
       "      <td>...</td>\n",
       "      <td>...</td>\n",
       "      <td>...</td>\n",
       "      <td>...</td>\n",
       "      <td>...</td>\n",
       "      <td>...</td>\n",
       "      <td>...</td>\n",
       "      <td>...</td>\n",
       "      <td>...</td>\n",
       "    </tr>\n",
       "    <tr>\n",
       "      <th>70</th>\n",
       "      <td>35</td>\n",
       "      <td>75</td>\n",
       "      <td>Europe</td>\n",
       "      <td>UEFA Europa League</td>\n",
       "      <td>male</td>\n",
       "      <td>False</td>\n",
       "      <td>False</td>\n",
       "      <td>1988/1989</td>\n",
       "      <td>2024-02-12T14:45:05.702250</td>\n",
       "      <td>2021-06-13T16:17:31.694</td>\n",
       "      <td>None</td>\n",
       "      <td>2024-02-12T14:45:05.702250</td>\n",
       "    </tr>\n",
       "    <tr>\n",
       "      <th>71</th>\n",
       "      <td>53</td>\n",
       "      <td>315</td>\n",
       "      <td>Europe</td>\n",
       "      <td>UEFA Women's Euro</td>\n",
       "      <td>female</td>\n",
       "      <td>False</td>\n",
       "      <td>True</td>\n",
       "      <td>2025</td>\n",
       "      <td>2025-07-28T14:19:20.467348</td>\n",
       "      <td>2025-07-29T16:03:07.355174</td>\n",
       "      <td>2025-07-29T16:03:07.355174</td>\n",
       "      <td>2025-07-28T14:19:20.467348</td>\n",
       "    </tr>\n",
       "    <tr>\n",
       "      <th>72</th>\n",
       "      <td>53</td>\n",
       "      <td>106</td>\n",
       "      <td>Europe</td>\n",
       "      <td>UEFA Women's Euro</td>\n",
       "      <td>female</td>\n",
       "      <td>False</td>\n",
       "      <td>True</td>\n",
       "      <td>2022</td>\n",
       "      <td>2024-02-13T13:27:17.178263</td>\n",
       "      <td>2024-02-13T13:30:52.820588</td>\n",
       "      <td>2024-02-13T13:30:52.820588</td>\n",
       "      <td>2024-02-13T13:27:17.178263</td>\n",
       "    </tr>\n",
       "    <tr>\n",
       "      <th>73</th>\n",
       "      <td>72</td>\n",
       "      <td>107</td>\n",
       "      <td>International</td>\n",
       "      <td>Women's World Cup</td>\n",
       "      <td>female</td>\n",
       "      <td>False</td>\n",
       "      <td>True</td>\n",
       "      <td>2023</td>\n",
       "      <td>2025-07-14T10:07:06.620906</td>\n",
       "      <td>2025-07-14T10:10:27.224586</td>\n",
       "      <td>2025-07-14T10:10:27.224586</td>\n",
       "      <td>2025-07-14T10:07:06.620906</td>\n",
       "    </tr>\n",
       "    <tr>\n",
       "      <th>74</th>\n",
       "      <td>72</td>\n",
       "      <td>30</td>\n",
       "      <td>International</td>\n",
       "      <td>Women's World Cup</td>\n",
       "      <td>female</td>\n",
       "      <td>False</td>\n",
       "      <td>True</td>\n",
       "      <td>2019</td>\n",
       "      <td>2024-08-08T15:57:56.748740</td>\n",
       "      <td>2021-06-13T16:17:31.694</td>\n",
       "      <td>None</td>\n",
       "      <td>2024-08-08T15:57:56.748740</td>\n",
       "    </tr>\n",
       "  </tbody>\n",
       "</table>\n",
       "<p>75 rows × 12 columns</p>\n",
       "</div>"
      ]
     },
     "execution_count": 2,
     "metadata": {},
     "output_type": "execute_result"
    }
   ],
   "execution_count": 2
  },
  {
   "cell_type": "code",
   "metadata": {
    "id": "d9T3hMhhF0YN",
    "collapsed": true,
    "ExecuteTime": {
     "end_time": "2025-09-27T03:22:18.327902Z",
     "start_time": "2025-09-27T03:22:18.014165Z"
    }
   },
   "source": [
    "#call the statsbombpy API to get a list of matches for a given competition\n",
    "#Euro 2024 competition id, season id\n",
    "#competition_id=55, season_id=282\n",
    "euro_2024_matches = sb.matches(competition_id=55, season_id=282)\n",
    "\n",
    "#print the first 5 matches listed\n",
    "euro_2024_matches.head(5)"
   ],
   "outputs": [
    {
     "data": {
      "text/plain": [
       "   match_id  match_date      kick_off         competition season    home_team  \\\n",
       "0   3942819  2024-07-10  22:00:00.000  Europe - UEFA Euro   2024  Netherlands   \n",
       "1   3943043  2024-07-14  22:00:00.000  Europe - UEFA Euro   2024        Spain   \n",
       "2   3942752  2024-07-09  22:00:00.000  Europe - UEFA Euro   2024        Spain   \n",
       "3   3942382  2024-07-06  22:00:00.000  Europe - UEFA Euro   2024  Netherlands   \n",
       "4   3942349  2024-07-05  22:00:00.000  Europe - UEFA Euro   2024     Portugal   \n",
       "\n",
       "  away_team  home_score  away_score match_status  ...  \\\n",
       "0   England           1           2    available  ...   \n",
       "1   England           2           1    available  ...   \n",
       "2    France           2           1    available  ...   \n",
       "3    Turkey           2           1    available  ...   \n",
       "4    France           0           0    available  ...   \n",
       "\n",
       "             last_updated_360 match_week competition_stage  \\\n",
       "0  2024-07-15T07:57:36.684453          6       Semi-finals   \n",
       "1  2024-07-15T15:52:24.778809          7             Final   \n",
       "2  2024-07-10T13:01:26.597509          6       Semi-finals   \n",
       "3  2024-07-10T06:56:35.146850          5    Quarter-finals   \n",
       "4  2024-07-12T02:00:16.871522          5    Quarter-finals   \n",
       "\n",
       "                 stadium            referee               home_managers  \\\n",
       "0      Signal-Iduna-Park       Felix Zwayer               Ronald Koeman   \n",
       "1  Olympiastadion Berlin  François Letexier  Luis de la Fuente Castillo   \n",
       "2          Allianz Arena      Slavko Vinčić  Luis de la Fuente Castillo   \n",
       "3  Olympiastadion Berlin     Clément Turpin               Ronald Koeman   \n",
       "4       Volksparkstadion     Michael Oliver   Roberto Martínez Montoliú   \n",
       "\n",
       "       away_managers data_version shot_fidelity_version xy_fidelity_version  \n",
       "0   Gareth Southgate        1.1.0                     2                   2  \n",
       "1   Gareth Southgate        1.1.0                     2                   2  \n",
       "2   Didier Deschamps        1.1.0                     2                   2  \n",
       "3  Vincenzo Montella        1.1.0                     2                   2  \n",
       "4   Didier Deschamps        1.1.0                     2                   2  \n",
       "\n",
       "[5 rows x 22 columns]"
      ],
      "text/html": [
       "<div>\n",
       "<style scoped>\n",
       "    .dataframe tbody tr th:only-of-type {\n",
       "        vertical-align: middle;\n",
       "    }\n",
       "\n",
       "    .dataframe tbody tr th {\n",
       "        vertical-align: top;\n",
       "    }\n",
       "\n",
       "    .dataframe thead th {\n",
       "        text-align: right;\n",
       "    }\n",
       "</style>\n",
       "<table border=\"1\" class=\"dataframe\">\n",
       "  <thead>\n",
       "    <tr style=\"text-align: right;\">\n",
       "      <th></th>\n",
       "      <th>match_id</th>\n",
       "      <th>match_date</th>\n",
       "      <th>kick_off</th>\n",
       "      <th>competition</th>\n",
       "      <th>season</th>\n",
       "      <th>home_team</th>\n",
       "      <th>away_team</th>\n",
       "      <th>home_score</th>\n",
       "      <th>away_score</th>\n",
       "      <th>match_status</th>\n",
       "      <th>...</th>\n",
       "      <th>last_updated_360</th>\n",
       "      <th>match_week</th>\n",
       "      <th>competition_stage</th>\n",
       "      <th>stadium</th>\n",
       "      <th>referee</th>\n",
       "      <th>home_managers</th>\n",
       "      <th>away_managers</th>\n",
       "      <th>data_version</th>\n",
       "      <th>shot_fidelity_version</th>\n",
       "      <th>xy_fidelity_version</th>\n",
       "    </tr>\n",
       "  </thead>\n",
       "  <tbody>\n",
       "    <tr>\n",
       "      <th>0</th>\n",
       "      <td>3942819</td>\n",
       "      <td>2024-07-10</td>\n",
       "      <td>22:00:00.000</td>\n",
       "      <td>Europe - UEFA Euro</td>\n",
       "      <td>2024</td>\n",
       "      <td>Netherlands</td>\n",
       "      <td>England</td>\n",
       "      <td>1</td>\n",
       "      <td>2</td>\n",
       "      <td>available</td>\n",
       "      <td>...</td>\n",
       "      <td>2024-07-15T07:57:36.684453</td>\n",
       "      <td>6</td>\n",
       "      <td>Semi-finals</td>\n",
       "      <td>Signal-Iduna-Park</td>\n",
       "      <td>Felix Zwayer</td>\n",
       "      <td>Ronald Koeman</td>\n",
       "      <td>Gareth Southgate</td>\n",
       "      <td>1.1.0</td>\n",
       "      <td>2</td>\n",
       "      <td>2</td>\n",
       "    </tr>\n",
       "    <tr>\n",
       "      <th>1</th>\n",
       "      <td>3943043</td>\n",
       "      <td>2024-07-14</td>\n",
       "      <td>22:00:00.000</td>\n",
       "      <td>Europe - UEFA Euro</td>\n",
       "      <td>2024</td>\n",
       "      <td>Spain</td>\n",
       "      <td>England</td>\n",
       "      <td>2</td>\n",
       "      <td>1</td>\n",
       "      <td>available</td>\n",
       "      <td>...</td>\n",
       "      <td>2024-07-15T15:52:24.778809</td>\n",
       "      <td>7</td>\n",
       "      <td>Final</td>\n",
       "      <td>Olympiastadion Berlin</td>\n",
       "      <td>François Letexier</td>\n",
       "      <td>Luis de la Fuente Castillo</td>\n",
       "      <td>Gareth Southgate</td>\n",
       "      <td>1.1.0</td>\n",
       "      <td>2</td>\n",
       "      <td>2</td>\n",
       "    </tr>\n",
       "    <tr>\n",
       "      <th>2</th>\n",
       "      <td>3942752</td>\n",
       "      <td>2024-07-09</td>\n",
       "      <td>22:00:00.000</td>\n",
       "      <td>Europe - UEFA Euro</td>\n",
       "      <td>2024</td>\n",
       "      <td>Spain</td>\n",
       "      <td>France</td>\n",
       "      <td>2</td>\n",
       "      <td>1</td>\n",
       "      <td>available</td>\n",
       "      <td>...</td>\n",
       "      <td>2024-07-10T13:01:26.597509</td>\n",
       "      <td>6</td>\n",
       "      <td>Semi-finals</td>\n",
       "      <td>Allianz Arena</td>\n",
       "      <td>Slavko Vinčić</td>\n",
       "      <td>Luis de la Fuente Castillo</td>\n",
       "      <td>Didier Deschamps</td>\n",
       "      <td>1.1.0</td>\n",
       "      <td>2</td>\n",
       "      <td>2</td>\n",
       "    </tr>\n",
       "    <tr>\n",
       "      <th>3</th>\n",
       "      <td>3942382</td>\n",
       "      <td>2024-07-06</td>\n",
       "      <td>22:00:00.000</td>\n",
       "      <td>Europe - UEFA Euro</td>\n",
       "      <td>2024</td>\n",
       "      <td>Netherlands</td>\n",
       "      <td>Turkey</td>\n",
       "      <td>2</td>\n",
       "      <td>1</td>\n",
       "      <td>available</td>\n",
       "      <td>...</td>\n",
       "      <td>2024-07-10T06:56:35.146850</td>\n",
       "      <td>5</td>\n",
       "      <td>Quarter-finals</td>\n",
       "      <td>Olympiastadion Berlin</td>\n",
       "      <td>Clément Turpin</td>\n",
       "      <td>Ronald Koeman</td>\n",
       "      <td>Vincenzo Montella</td>\n",
       "      <td>1.1.0</td>\n",
       "      <td>2</td>\n",
       "      <td>2</td>\n",
       "    </tr>\n",
       "    <tr>\n",
       "      <th>4</th>\n",
       "      <td>3942349</td>\n",
       "      <td>2024-07-05</td>\n",
       "      <td>22:00:00.000</td>\n",
       "      <td>Europe - UEFA Euro</td>\n",
       "      <td>2024</td>\n",
       "      <td>Portugal</td>\n",
       "      <td>France</td>\n",
       "      <td>0</td>\n",
       "      <td>0</td>\n",
       "      <td>available</td>\n",
       "      <td>...</td>\n",
       "      <td>2024-07-12T02:00:16.871522</td>\n",
       "      <td>5</td>\n",
       "      <td>Quarter-finals</td>\n",
       "      <td>Volksparkstadion</td>\n",
       "      <td>Michael Oliver</td>\n",
       "      <td>Roberto Martínez Montoliú</td>\n",
       "      <td>Didier Deschamps</td>\n",
       "      <td>1.1.0</td>\n",
       "      <td>2</td>\n",
       "      <td>2</td>\n",
       "    </tr>\n",
       "  </tbody>\n",
       "</table>\n",
       "<p>5 rows × 22 columns</p>\n",
       "</div>"
      ]
     },
     "execution_count": 3,
     "metadata": {},
     "output_type": "execute_result"
    }
   ],
   "execution_count": 3
  },
  {
   "cell_type": "code",
   "execution_count": null,
   "metadata": {
    "id": "9tsDO2pmF0Vp"
   },
   "outputs": [],
   "source": [
    "#create a variable for the team you want to look into\n",
    "team=\"England\"\n",
    "\n",
    "#filter for only matches that the focus team played in\n",
    "matches_df = euro_2024_matches[(euro_2024_matches['home_team'] == team)|(euro_2024_matches['away_team'] == team)]\n",
    "\n",
    "#sort by match date to get the most recent match\n",
    "matches_df=matches_df.sort_values(by='match_date', ascending=False)"
   ]
  },
  {
   "cell_type": "code",
   "source": [
    "matches_df.head(5)"
   ],
   "metadata": {
    "id": "gbgrloDarIU9",
    "collapsed": true
   },
   "execution_count": null,
   "outputs": []
  },
  {
   "cell_type": "code",
   "source": [
    "#create a variable containing the first match id in the data frame\n",
    "latest_match_id = matches_df.match_id.iloc[0]\n",
    "\n",
    "#latest_match_id=3943043"
   ],
   "metadata": {
    "id": "HMIzWlnfrLqQ"
   },
   "execution_count": null,
   "outputs": []
  },
  {
   "cell_type": "code",
   "execution_count": null,
   "metadata": {
    "id": "bzg3AxaZF0Sf",
    "collapsed": true
   },
   "outputs": [],
   "source": [
    "#call the statsbombpy events API to bring in the event data for the match\n",
    "events_df = sb.events(match_id=latest_match_id)\n",
    "\n",
    "#print the first 5 rows of data\n",
    "events_df.head(5)"
   ]
  },
  {
   "cell_type": "code",
   "source": [
    "#print a list of columns available in the event data\n",
    "events_df.columns"
   ],
   "metadata": {
    "id": "D6O5bjkK3Rxb",
    "collapsed": true
   },
   "execution_count": null,
   "outputs": []
  },
  {
   "cell_type": "code",
   "source": [
    "#separate start and end locations from coordinates\n",
    "events_df[['x', 'y']] = events_df['location'].apply(pd.Series)\n",
    "events_df[['pass_end_x', 'pass_end_y']] = events_df['pass_end_location'].apply(pd.Series)\n",
    "events_df[['carry_end_x', 'carry_end_y']] = events_df['carry_end_location'].apply(pd.Series)"
   ],
   "metadata": {
    "id": "gewnl--FyMfW"
   },
   "execution_count": null,
   "outputs": []
  },
  {
   "cell_type": "markdown",
   "source": [
    "# Example One: Passes and Carries into the Final Third\n",
    "\n",
    "\"Which players progressed the ball into the final third the most?\""
   ],
   "metadata": {
    "id": "kMUdsrIG5Mp4"
   }
  },
  {
   "cell_type": "markdown",
   "source": [
    "![Screenshot 2024-07-08 at 18.01.42.png](data:image/png;base64,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)"
   ],
   "metadata": {
    "id": "KcnzNvocR-yo"
   }
  },
  {
   "cell_type": "markdown",
   "source": [
    "## Data Manipulation"
   ],
   "metadata": {
    "id": "sQR2Y1UJLgwr"
   }
  },
  {
   "cell_type": "code",
   "source": [
    "events_df.pass_outcome.unique()"
   ],
   "metadata": {
    "id": "C-xHciyrnp2n"
   },
   "execution_count": null,
   "outputs": []
  },
  {
   "cell_type": "code",
   "source": [
    "#filter for events done by the focus team\n",
    "#filter by event type to get only passes\n",
    "#filter for passes that started outside of the final third\n",
    "#filter for passes that ended in the final third\n",
    "#filter for completed passes\n",
    "f3rd_passes=events_df[(events_df.team==team)&(events_df.type==\"Pass\")&(events_df.x<80)&(events_df.pass_end_x>80)&(events_df.pass_outcome.isna())]\n",
    "\n",
    "#get count for each player\n",
    "f3rd_passes_count=f3rd_passes.groupby('player').size().reset_index()"
   ],
   "metadata": {
    "id": "GsKiDH4PnlPq"
   },
   "execution_count": null,
   "outputs": []
  },
  {
   "cell_type": "code",
   "source": [
    "f3rd_passes_count"
   ],
   "metadata": {
    "id": "tvN5Jv65C16v"
   },
   "execution_count": null,
   "outputs": []
  },
  {
   "cell_type": "code",
   "source": [
    "#rename second column\n",
    "f3rd_passes_count.rename(columns={f3rd_passes_count.columns[1]: \"Passes\" }, inplace = True)"
   ],
   "metadata": {
    "id": "PKdI9z2N572w"
   },
   "execution_count": null,
   "outputs": []
  },
  {
   "cell_type": "code",
   "source": [
    "f3rd_passes_count"
   ],
   "metadata": {
    "id": "HNcPO6e5zbTK"
   },
   "execution_count": null,
   "outputs": []
  },
  {
   "cell_type": "code",
   "source": [
    "#get final third carries for focus team\n",
    "f3rd_carries=events_df[(events_df.type==\"Carry\")&(events_df.x<80)&(events_df.carry_end_x>80)&(events_df.team==team)]\n",
    "\n",
    "#get count for each player\n",
    "f3rd_carries_count=f3rd_carries.groupby('player').size().reset_index()\n",
    "\n",
    "#rename second column\n",
    "f3rd_carries_count.rename(columns={f3rd_carries_count.columns[1]: \"Carries\" }, inplace = True)"
   ],
   "metadata": {
    "id": "R0r8fKWy3r9n"
   },
   "execution_count": null,
   "outputs": []
  },
  {
   "cell_type": "code",
   "source": [
    "f3rd_carries_count"
   ],
   "metadata": {
    "id": "CpllRux7347_"
   },
   "execution_count": null,
   "outputs": []
  },
  {
   "cell_type": "code",
   "source": [
    "#combine dataframes\n",
    "progressions_df=pd.merge(f3rd_passes_count, f3rd_carries_count,\n",
    "                    how=\"outer\", on=[\"player\"])"
   ],
   "metadata": {
    "id": "MKDgBtb2Gdm5"
   },
   "execution_count": null,
   "outputs": []
  },
  {
   "cell_type": "code",
   "source": [
    "progressions_df"
   ],
   "metadata": {
    "id": "qfj3papeB1ed"
   },
   "execution_count": null,
   "outputs": []
  },
  {
   "cell_type": "code",
   "source": [
    "#add 0 where value is NaN\n",
    "progressions_df=progressions_df.fillna(0)"
   ],
   "metadata": {
    "id": "DmvGy6uVB5ML"
   },
   "execution_count": null,
   "outputs": []
  },
  {
   "cell_type": "code",
   "source": [
    "progressions_df"
   ],
   "metadata": {
    "id": "eiZN7r6uB_Io"
   },
   "execution_count": null,
   "outputs": []
  },
  {
   "cell_type": "code",
   "source": [
    "#add a new column with the total\n",
    "progressions_df['total']=progressions_df['Passes']+progressions_df['Carries']"
   ],
   "metadata": {
    "id": "5cxo_gGmDXjg"
   },
   "execution_count": null,
   "outputs": []
  },
  {
   "cell_type": "code",
   "source": [
    "progressions_df"
   ],
   "metadata": {
    "id": "cBNjf3HODoJJ"
   },
   "execution_count": null,
   "outputs": []
  },
  {
   "cell_type": "code",
   "source": [
    "progressions_df.sort_values(by='total', ascending=False, inplace=True)"
   ],
   "metadata": {
    "id": "M46CWPzwD5Xy"
   },
   "execution_count": null,
   "outputs": []
  },
  {
   "cell_type": "code",
   "source": [
    "progressions_df"
   ],
   "metadata": {
    "id": "VHOdzjXND8QM"
   },
   "execution_count": null,
   "outputs": []
  },
  {
   "cell_type": "markdown",
   "source": [
    "## Visualise"
   ],
   "metadata": {
    "id": "iSyJzvLbLeoq"
   }
  },
  {
   "cell_type": "code",
   "source": [
    "#create stacked bar chart\n",
    "pass_colour='#e21017'\n",
    "carry_colour='blue'\n",
    "\n",
    "#sort to get lowest values first (so that it plots in the correct order on our bar chart)\n",
    "progressions_df.sort_values(by='total', ascending=True, inplace=True)\n",
    "\n",
    "#include only relevant columns\n",
    "barchart_df=progressions_df[[\"player\", \"Passes\", \"Carries\"]]\n",
    "\n",
    "\n",
    "#create figure and set some style parameters\n",
    "plt.figure(figsize = (15,15))\n",
    "sns.set(rc={'axes.facecolor':'white', 'figure.facecolor':'white'})\n",
    "sns.set_style(\"ticks\")\n",
    "\n",
    "#create bar chart\n",
    "barchart_df.set_index('player').plot(kind='barh', stacked=True,color=[pass_colour, carry_colour],legend=True,figsize=(10,10))\n",
    "\n",
    "#add chart labels and title\n",
    "plt.xlabel(xlabel=\"Progressions into Final 3rd\",fontdict = { 'fontsize': 12, 'weight':'semibold'})\n",
    "plt.ylabel(ylabel=\"Player\",fontdict = { 'fontsize': 12, 'weight':'semibold'})\n",
    "plt.title(f\"{team}: Progressions into Final 3rd\",fontdict = { 'fontsize': 24, 'weight':'bold'})\n",
    "\n",
    "#keep two axes\n",
    "sns.despine(top=True, right=True, left=False, bottom=False)\n",
    "plt.autoscale()\n",
    "plt.show()"
   ],
   "metadata": {
    "id": "nq7lVEuyGfbv"
   },
   "execution_count": null,
   "outputs": []
  },
  {
   "cell_type": "code",
   "source": [
    "#visualise for a given player\n",
    "player_name=\"Jude Bellingham\"\n",
    "\n",
    "player_passes=f3rd_passes[(f3rd_passes.player==player_name)]\n",
    "player_carries=f3rd_carries[(f3rd_carries.player==player_name)]\n",
    "\n",
    "#set up the pitch\n",
    "pitch = Pitch(pitch_type='statsbomb', pitch_color='white', line_zorder=2, line_color='black')\n",
    "fig, ax = pitch.draw(figsize=(16, 11),constrained_layout=True, tight_layout=False)\n",
    "fig.set_facecolor('white')\n",
    "\n",
    "#plot the passes\n",
    "pitch.arrows(player_passes.x, player_passes.y,\n",
    "player_passes.pass_end_x, player_passes.pass_end_y, width=3,\n",
    "headwidth=8, headlength=5, color=pass_colour, ax=ax, zorder=2, label = \"Pass\")\n",
    "\n",
    "#plot the carries\n",
    "pitch.arrows(player_carries.x, player_carries.y,\n",
    "player_carries.carry_end_x, player_carries.carry_end_y, width=3,\n",
    "headwidth=8, headlength=5, color=carry_colour, ax=ax, zorder=2, label = \"Carry\")\n",
    "\n",
    "#plot the legend\n",
    "ax.legend(facecolor='white', handlelength=5, edgecolor='None', fontsize=20, loc='best')\n",
    "\n",
    "#set title of viz\n",
    "ax_title = ax.set_title(f'{player_name} Progressions into Final 3rd: Euros Final', fontsize=30,color='black')"
   ],
   "metadata": {
    "id": "n2h9iZ3lGhCs"
   },
   "execution_count": null,
   "outputs": []
  },
  {
   "cell_type": "markdown",
   "source": [
    "# Example Two: Comparing Touch Maps\n",
    "\n",
    "\"Was player A's on ball position similar to player B's?\""
   ],
   "metadata": {
    "id": "ZmYo0OPdnVU8"
   }
  },
  {
   "cell_type": "markdown",
   "source": [
    "## Data Manipulation"
   ],
   "metadata": {
    "id": "6Fs4TbToLq-S"
   }
  },
  {
   "cell_type": "code",
   "source": [
    "player1=\"Luke Shaw\"\n",
    "player2=\"Kyle Walker\"\n",
    "touches=['Pass', 'Ball Receipt*', 'Carry', 'Clearance', 'Foul Won', 'Block',\n",
    "'Ball Recovery', 'Duel', 'Dribble', 'Interception', 'Miscontrol', 'Shot']"
   ],
   "metadata": {
    "id": "QSrYezFUnkS-"
   },
   "execution_count": null,
   "outputs": []
  },
  {
   "cell_type": "code",
   "source": [
    "player1_df=events_df[(events_df.player==player1)&(events_df.type.isin(touches))]\n",
    "player2_df=events_df[(events_df.player==player2)&(events_df.type.isin(touches))]"
   ],
   "metadata": {
    "id": "AIlo75t9Eomw"
   },
   "execution_count": null,
   "outputs": []
  },
  {
   "cell_type": "markdown",
   "source": [
    "## Visualise"
   ],
   "metadata": {
    "id": "G0VQ-acjLtay"
   }
  },
  {
   "cell_type": "code",
   "source": [
    "#create colour map\n",
    "colour1=\"white\"\n",
    "colour2=\"#c3c3c3\"\n",
    "colour3=\"#e21017\"\n",
    "cmaplist = [colour1, colour2, colour3]\n",
    "cmap = LinearSegmentedColormap.from_list(\"\", cmaplist)"
   ],
   "metadata": {
    "id": "CFjRHtMbDbQM"
   },
   "execution_count": null,
   "outputs": []
  },
  {
   "cell_type": "code",
   "source": [
    "path_eff = [path_effects.Stroke(linewidth=3, foreground='black'),\n",
    "            path_effects.Normal()]\n",
    "\n",
    "#create a grid of pitches\n",
    "#define pitch style\n",
    "pitch = VerticalPitch(pitch_type='statsbomb', line_zorder=2, line_color='#000000', linewidth=2,half=False)\n",
    "\n",
    "#create a grid - in this example, one row of two pitches\n",
    "fig, axs = pitch.grid(nrows=1, ncols=2\n",
    "                      ,figheight=16,\n",
    "                      grid_width=0.65,\n",
    "                      endnote_height=0.03, endnote_space=0.05,\n",
    "                      axis=False,title_space=0.02, title_height=0.06, grid_height=0.8)\n",
    "\n",
    "#get data for heatmap\n",
    "#player1\n",
    "bin_statistic1 = pitch.bin_statistic(player1_df.x, player1_df.y, statistic='count',\n",
    "bins=(6, 4),normalize=True)\n",
    "#player2\n",
    "bin_statistic2 = pitch.bin_statistic(player2_df.x, player2_df.y, statistic='count',\n",
    "bins=(6, 4),normalize=True)\n",
    "\n",
    "#calculate vmax value\n",
    "#we want both our heatmaps to use the same colour spectrum\n",
    "vmax1=bin_statistic1['statistic'].max()\n",
    "vmax2=bin_statistic2['statistic'].max()\n",
    "\n",
    "if vmax1>vmax2:\n",
    "  vmax=vmax1\n",
    "else:\n",
    "  vmax=vmax2\n",
    "\n",
    "#set vmin as zero\n",
    "vmin=0\n",
    "\n",
    "#plot heatmap for player1\n",
    "heatmap1 = pitch.heatmap(bin_statistic1, ax=axs['pitch'][0], cmap=cmap, vmax=vmax, vmin=vmin)\n",
    "\n",
    "#add percentages for each zone\n",
    "annotate1 = pitch.label_heatmap(bin_statistic1, color='white',\n",
    "                                path_effects=path_eff, fontsize=50, ax=axs['pitch'][0],\n",
    "                                str_format='{:.0%}',\n",
    "                                ha='center', va='center',\n",
    "                                exclude_zeros=True)\n",
    "\n",
    "#add name of player to the top of the heatmap\n",
    "ax_text(0, 125, f'{player1}: Touches', ha='left', c='black',va='center', fontsize=45,ax=axs['pitch'][0],style='italic')\n",
    "\n",
    "\n",
    "#plot heatmap for player2\n",
    "heatmap2 = pitch.heatmap(bin_statistic2, ax=axs['pitch'][1], cmap=cmap, vmax=vmax, vmin=vmin)\n",
    "\n",
    "#add percentages for each zone\n",
    "annotate2 = pitch.label_heatmap(bin_statistic2, color='white',\n",
    "                                path_effects=path_eff, fontsize=50, ax=axs['pitch'][1],\n",
    "                                str_format='{:.0%}',\n",
    "                                ha='center', va='center',\n",
    "                                exclude_zeros=True)\n",
    "\n",
    "#add name of player to the top of the heatmap\n",
    "ax_text(0, 125, f'{player2}: Touches', ha='left', c='black',va='center', fontsize=45,ax=axs['pitch'][1],style='italic')"
   ],
   "metadata": {
    "id": "AWLqTKjME9mN"
   },
   "execution_count": null,
   "outputs": []
  },
  {
   "cell_type": "markdown",
   "source": [
    "# Bonus\n",
    "\n",
    "Get top xG Performers across the tournament. Create a shot map for the top player."
   ],
   "metadata": {
    "id": "iLnxOTVegn2H"
   }
  },
  {
   "cell_type": "code",
   "source": [
    "# get event data for entire season\n",
    "comp_events_df=sb.competition_events(\n",
    "     country='Europe',\n",
    "     division='UEFA Euro',\n",
    "     season='2024',\n",
    "     gender=\"male\")"
   ],
   "metadata": {
    "id": "-tNUJKnrx-ea"
   },
   "execution_count": null,
   "outputs": []
  },
  {
   "cell_type": "code",
   "source": [
    "comp_events_df[['x', 'y']] = comp_events_df['location'].apply(pd.Series)\n",
    "comp_events_df[['pass_end_x', 'pass_end_y']] = comp_events_df['pass_end_location'].apply(pd.Series)\n",
    "comp_events_df[['carry_end_x', 'carry_end_y']] = comp_events_df['carry_end_location'].apply(pd.Series)"
   ],
   "metadata": {
    "id": "MT5zbMUmMBvP"
   },
   "execution_count": null,
   "outputs": []
  },
  {
   "cell_type": "code",
   "source": [
    "# get non penalty shots and non penalty goals\n",
    "shots_df=comp_events_df[(comp_events_df.type==\"Shot\")&(comp_events_df.shot_type!=\"Penalty\")]\n",
    "goals_df=comp_events_df[(comp_events_df.type==\"Shot\")&(comp_events_df.shot_type!=\"Penalty\")&(comp_events_df.shot_outcome==\"Goal\")]\n",
    "\n",
    "#shots\n",
    "#get count for each player, include team info\n",
    "shots_count=shots_df.groupby(['player','team']).size().reset_index()\n",
    "\n",
    "#rename second column\n",
    "shots_count.rename(columns={shots_count.columns[2]: \"np Shots\" }, inplace = True)\n",
    "\n",
    "\n",
    "#goals\n",
    "#get count for each player, include team info\n",
    "goals_count=goals_df.groupby(['player', 'team']).size().reset_index()\n",
    "\n",
    "#rename second column\n",
    "goals_count.rename(columns={goals_count.columns[2]: \"np Goals\" }, inplace = True)\n",
    "\n",
    "\n",
    "#xG\n",
    "#get count for each player, include team info\n",
    "xg_sum=shots_df.groupby(['player', 'team'])['shot_statsbomb_xg'].sum().reset_index()\n",
    "\n",
    "#rename second column\n",
    "xg_sum.rename(columns={xg_sum.columns[2]: \"np xG\" }, inplace = True)\n",
    "\n",
    "#round up to 2 decimal places\n",
    "xg_sum['np xG']=xg_sum['np xG'].round(2)"
   ],
   "metadata": {
    "id": "5sUEV_dIgnip"
   },
   "execution_count": null,
   "outputs": []
  },
  {
   "cell_type": "code",
   "source": [
    "#combine dataframes\n",
    "shot_stats=pd.merge(shots_count, goals_count,\n",
    "                    how=\"outer\", on=[\"player\", \"team\"])\n",
    "\n",
    "shot_stats=pd.merge(shot_stats, xg_sum,\n",
    "                    how=\"outer\", on=[\"player\", \"team\"])"
   ],
   "metadata": {
    "id": "pfySBiAsg233"
   },
   "execution_count": null,
   "outputs": []
  },
  {
   "cell_type": "code",
   "source": [
    "#add 0 where value is NaN\n",
    "shot_stats=shot_stats.fillna(0)\n",
    "\n",
    "#sort to get top goalscorers, change by=' ' to get top xG, or top Shots\n",
    "shot_stats=shot_stats.sort_values(by='np xG', ascending=False)"
   ],
   "metadata": {
    "id": "Xs7QFEAdGqvR"
   },
   "execution_count": null,
   "outputs": []
  },
  {
   "cell_type": "code",
   "source": [
    "shot_stats.head(10)"
   ],
   "metadata": {
    "id": "N9WSQPe6HRUm"
   },
   "execution_count": null,
   "outputs": []
  },
  {
   "cell_type": "code",
   "source": [
    "#Shot map for top scorer\n",
    "xg_player=shot_stats.player.iloc[0]\n",
    "\n",
    "player_goals_df=goals_df[(goals_df.player==xg_player)]\n",
    "\n",
    "player_shots_df=shots_df[(shots_df.player==xg_player)&(shots_df.shot_outcome!=\"Goal\")]"
   ],
   "metadata": {
    "id": "5QM5rM5qFi-z"
   },
   "execution_count": null,
   "outputs": []
  },
  {
   "cell_type": "code",
   "source": [
    "pitch = VerticalPitch(pitch_type='statsbomb',half=True,pad_bottom=-11)\n",
    "fig, ax = pitch.draw(figsize=(12, 10))\n",
    "\n",
    "shot_colour='red'\n",
    "goal_colour='blue'\n",
    "\n",
    "shots = pitch.scatter(player_shots_df.x, player_shots_df.y,\n",
    "#make size relative to xG value\n",
    "s=player_shots_df.shot_statsbomb_xg*1000,\n",
    "c=shot_colour,\n",
    "label='Shots',\n",
    "marker='o',\n",
    "alpha=0.5,\n",
    "ax=ax)\n",
    "\n",
    "goals = pitch.scatter(player_goals_df.x, player_goals_df.y,\n",
    "#make size relative to xG value\n",
    "s=player_goals_df.shot_statsbomb_xg*1000,\n",
    "c='white',\n",
    "edgecolors=goal_colour,\n",
    "label='Goals',\n",
    "marker='football',\n",
    "ax=ax)\n",
    "\n",
    "#plot the legend\n",
    "ax.legend(facecolor='white', handlelength=5, edgecolor='None', fontsize=20, loc='best')\n",
    "\n",
    "ax_text(0, 125, f'{xg_player}: Shot Map, Euro 2024', ha='left', c='black',va='center', fontsize=25,ax=ax,style='italic')"
   ],
   "metadata": {
    "id": "R1Jl-eu9GLwv"
   },
   "execution_count": null,
   "outputs": []
  }
 ],
 "metadata": {
  "colab": {
   "provenance": [],
   "collapsed_sections": [
    "0bvkC88XJkAm",
    "kMUdsrIG5Mp4",
    "sQR2Y1UJLgwr",
    "iSyJzvLbLeoq",
    "ZmYo0OPdnVU8",
    "6Fs4TbToLq-S",
    "G0VQ-acjLtay",
    "iLnxOTVegn2H"
   ]
  },
  "kernelspec": {
   "display_name": "Python 3 (ipykernel)",
   "name": "python3",
   "language": "python"
  },
  "language_info": {
   "name": "python"
  }
 },
 "nbformat": 4,
 "nbformat_minor": 0
}
